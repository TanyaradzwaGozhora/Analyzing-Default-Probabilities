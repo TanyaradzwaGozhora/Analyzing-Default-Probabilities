{
 "cells": [
  {
   "cell_type": "code",
   "execution_count": 8,
   "metadata": {},
   "outputs": [],
   "source": [
    "import pandas as pd\n",
    "import numpy as np\n",
    "from scipy.optimize import curve_fit\n",
    "import matplotlib.pyplot as plt\n",
    "from sklearn.linear_model import LogisticRegression\n",
    "from sklearn.model_selection import train_test_split\n",
    "from scipy.stats import norm\n",
    "import math"
   ]
  },
  {
   "cell_type": "code",
   "execution_count": 2,
   "metadata": {},
   "outputs": [],
   "source": [
    "df2 = pd.read_csv('data_csv.csv', index_col='loan_applicant_id')\n",
    "df2.head()\n",
    "df2 = df2.dropna()"
   ]
  },
  {
   "cell_type": "code",
   "execution_count": 3,
   "metadata": {},
   "outputs": [
    {
     "name": "stdout",
     "output_type": "stream",
     "text": [
      "[192  57 212 ... 264  56 240]\n",
      "[1 0 0 ... 1 0 0]\n",
      "<class 'numpy.ndarray'>\n",
      "<class 'numpy.ndarray'>\n"
     ]
    }
   ],
   "source": [
    "x = df2['household_income'].values\n",
    "y = df2['y'].values\n",
    "print(x,y, sep=\"\\n\")\n",
    "print(type(x), type(y), sep=\"\\n\")"
   ]
  },
  {
   "cell_type": "code",
   "execution_count": 5,
   "metadata": {},
   "outputs": [
    {
     "data": {
      "text/plain": [
       "<matplotlib.collections.PathCollection at 0x1fb5996fc10>"
      ]
     },
     "execution_count": 5,
     "metadata": {},
     "output_type": "execute_result"
    },
    {
     "data": {
      "image/png": "[encoded data removed]",
      "text/plain": [
       "<Figure size 432x288 with 1 Axes>"
      ]
     },
     "metadata": {
      "needs_background": "light"
     },
     "output_type": "display_data"
    }
   ],
   "source": [
    "plt.scatter(x, y, color=\"black\", marker = \"X\", s=3)"
   ]
  },
  {
   "cell_type": "code",
   "execution_count": 7,
   "metadata": {},
   "outputs": [
    {
     "data": {
      "image/png": "[encoded data removed]",
      "text/plain": [
       "<Figure size 432x288 with 1 Axes>"
      ]
     },
     "metadata": {
      "needs_background": "light"
     },
     "output_type": "display_data"
    }
   ],
   "source": [
    "logreg = LogisticRegression()\n",
    "x_train, x_test, y_train, y_test = train_test_split(x, y, test_size=0.25, random_state=0)\n",
    "x_train = x_train.reshape(-1,1)\n",
    "x_test = x_test.reshape(-1,1)\n",
    "logreg.fit(x_train, y_train)\n",
    "predictions = logreg.predict(x_test)\n",
    "\n",
    "\n",
    "# # Visualising the Training set results\n",
    "plt.scatter(x_test, y_test)\n",
    "\n",
    "# create a line plot of the logistic regression model\n",
    "X = np.linspace(x_test.min(), x_test.max(), 100)\n",
    "Y = logreg.predict_proba(X.reshape(-1,1))[:,1]\n",
    "plt.plot(X, Y, color='red')\n",
    "\n",
    "# show the scatter plot and line plot on the same graph\n",
    "plt.xlabel('x')\n",
    "plt.ylabel('y')\n",
    "plt.title('Logistic Regression')\n",
    "plt.show()"
   ]
  },
  {
   "cell_type": "code",
   "execution_count": 128,
   "metadata": {},
   "outputs": [],
   "source": [
    "def f(x, b, mu, sigma):#,scal):\n",
    "    # print(x)?\n",
    "    # result = []\n",
    "    # for x_ in x:\n",
    "    #     b_over = b/x_\n",
    "    #     if b_over <= 0:\n",
    "    #         print(b,x,b_over)\n",
    "    #     lnb = math.log(b_over)\n",
    "    #     term_2 = mu - (sigma**2)/2\n",
    "    #     lnb = lnb - term_2\n",
    "    #     lnb = lnb/sigma\n",
    "    #     lnb = norm.cdf(lnb)\n",
    "    #     result.append(lnb)\n",
    "        # print(lnb)\n",
    "    b_over = [math.log(b/x_) for x_ in x]\n",
    "    # lnb = np.log(b_over)\n",
    "    term_2 = mu - (sigma**2)/2\n",
    "    result = [x_ - term_2 for x_ in b_over]\n",
    "    result = [temp/sigma for temp in result]\n",
    "    result = [norm.cdf(temp) for temp in result]\n",
    "    result = [1-temp for temp in result]\n",
    "    # result = [scal*temp for temp in result]\n",
    "\n",
    "\n",
    "\n",
    "    # print(result)\n",
    "    # result = []\n",
    "    # for arr in b_over:\n",
    "    #     # print(arr)\n",
    "    #     arr = arr - term_2\n",
    "    #     result.append(arr)\n",
    "    \n",
    "    # result = [i if type(i) ==\"float\" else i[0] for i in lnb]\n",
    "    # result = [i[0] - term_2 for i in lnb]\n",
    "    # print(lnb, result)\n",
    "    return result"
   ]
  },
  {
   "cell_type": "code",
   "execution_count": 129,
   "metadata": {},
   "outputs": [],
   "source": [
    "popt, pcov = curve_fit(f, \n",
    "                       x_train.astype(float), \n",
    "                       y_train.astype(float),\n",
    "                    #    p0=[1,1,1],\n",
    "                       bounds=([0,-1* math.inf,0], [np.inf, np.inf, np.inf]),\n",
    "                     #   bounds=([0,-1* math.inf,0, -1* math.inf], [np.inf, np.inf, np.inf, 0]),\n",
    "                       maxfev=1000)\n",
    "\n",
    "# when b is positive the curve is concave and it doesn't work\n",
    "# adding a scalar that can curve eitehr\n"
   ]
  },
  {
   "cell_type": "code",
   "execution_count": 130,
   "metadata": {},
   "outputs": [
    {
     "name": "stdout",
     "output_type": "stream",
     "text": [
      "[ 1.62148437e+01 -2.70446637e+00  7.66711433e-04]\n",
      "[[ 3.05881862e-06 -4.95987004e-05  2.62243232e-05]\n",
      " [-4.95987004e-05  8.04242221e-04 -4.25227027e-04]\n",
      " [ 2.62243232e-05 -4.25227027e-04  2.24846168e-04]]\n"
     ]
    }
   ],
   "source": [
    "print(popt, pcov, sep=\"\\n\")\n",
    "# pcov"
   ]
  },
  {
   "cell_type": "code",
   "execution_count": 133,
   "metadata": {},
   "outputs": [
    {
     "data": {
      "image/png": "[encoded data removed]",
      "text/plain": [
       "<Figure size 432x288 with 1 Axes>"
      ]
     },
     "metadata": {
      "needs_background": "light"
     },
     "output_type": "display_data"
    }
   ],
   "source": [
    "# plot the original data\n",
    "# plt.scatter(x_test, y_test, label='Data')\n",
    "# Ommitted\n",
    "\n",
    "# plot the fitted curve\n",
    "xfit = np.linspace(x_test.min(), x_test.max(), 100000)\n",
    "yfit = f(xfit, *popt)\n",
    "plt.plot(xfit, yfit, label='Fit')\n",
    "\n",
    "# add labels and legend\n",
    "plt.xlabel('x')\n",
    "plt.ylabel('y')\n",
    "plt.legend()\n",
    "\n",
    "# show the plot\n",
    "plt.show()"
   ]
  },
  {
   "cell_type": "code",
   "execution_count": 132,
   "metadata": {},
   "outputs": [
    {
     "name": "stdout",
     "output_type": "stream",
     "text": [
      "0.06137496896334954\n"
     ]
    }
   ],
   "source": [
    "from sklearn.metrics import mean_squared_error\n",
    "predictions = f(x_test, *popt)\n",
    "print(mean_squared_error(y_test, predictions))"
   ]
  },
  {
   "cell_type": "code",
   "execution_count": null,
   "metadata": {},
   "outputs": [],
   "source": []
  }
 ],
 "metadata": {
  "kernelspec": {
   "display_name": "Python 3",
   "language": "python",
   "name": "python3"
  },
  "language_info": {
   "codemirror_mode": {
    "name": "ipython",
    "version": 3
   },
   "file_extension": ".py",
   "mimetype": "text/x-python",
   "name": "python",
   "nbconvert_exporter": "python",
   "pygments_lexer": "ipython3",
   "version": "3.9.4"
  },
  "orig_nbformat": 4
 },
 "nbformat": 4,
 "nbformat_minor": 2
}
