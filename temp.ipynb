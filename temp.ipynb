{
 "cells": [
  {
   "cell_type": "code",
   "execution_count": 2,
   "metadata": {},
   "outputs": [],
   "source": [
    "import pandas as pd\n"
   ]
  },
  {
   "cell_type": "code",
   "execution_count": 3,
   "metadata": {},
   "outputs": [
    {
     "data": {
      "text/html": [
       "<div>\n",
       "<style scoped>\n",
       "    .dataframe tbody tr th:only-of-type {\n",
       "        vertical-align: middle;\n",
       "    }\n",
       "\n",
       "    .dataframe tbody tr th {\n",
       "        vertical-align: top;\n",
       "    }\n",
       "\n",
       "    .dataframe thead th {\n",
       "        text-align: right;\n",
       "    }\n",
       "</style>\n",
       "<table border=\"1\" class=\"dataframe\">\n",
       "  <thead>\n",
       "    <tr style=\"text-align: right;\">\n",
       "      <th></th>\n",
       "      <th>age</th>\n",
       "      <th>education</th>\n",
       "      <th>years_with_current_employer</th>\n",
       "      <th>years_at_current_address</th>\n",
       "      <th>household_income</th>\n",
       "      <th>debt_to_income_ratio</th>\n",
       "      <th>credit_card_debt</th>\n",
       "      <th>other_debt</th>\n",
       "      <th>y</th>\n",
       "    </tr>\n",
       "    <tr>\n",
       "      <th>loan_applicant_id</th>\n",
       "      <th></th>\n",
       "      <th></th>\n",
       "      <th></th>\n",
       "      <th></th>\n",
       "      <th></th>\n",
       "      <th></th>\n",
       "      <th></th>\n",
       "      <th></th>\n",
       "      <th></th>\n",
       "    </tr>\n",
       "  </thead>\n",
       "  <tbody>\n",
       "    <tr>\n",
       "      <th>191</th>\n",
       "      <td>44</td>\n",
       "      <td>university.degree</td>\n",
       "      <td>10</td>\n",
       "      <td>20</td>\n",
       "      <td>192</td>\n",
       "      <td>12.116645</td>\n",
       "      <td>14.377313</td>\n",
       "      <td>8.886645</td>\n",
       "      <td>1</td>\n",
       "    </tr>\n",
       "    <tr>\n",
       "      <th>34318</th>\n",
       "      <td>34</td>\n",
       "      <td>high.school</td>\n",
       "      <td>3</td>\n",
       "      <td>18</td>\n",
       "      <td>57</td>\n",
       "      <td>14.264229</td>\n",
       "      <td>5.137880</td>\n",
       "      <td>2.992730</td>\n",
       "      <td>0</td>\n",
       "    </tr>\n",
       "    <tr>\n",
       "      <th>14932</th>\n",
       "      <td>45</td>\n",
       "      <td>university.degree</td>\n",
       "      <td>14</td>\n",
       "      <td>24</td>\n",
       "      <td>212</td>\n",
       "      <td>7.285681</td>\n",
       "      <td>10.460306</td>\n",
       "      <td>4.985339</td>\n",
       "      <td>0</td>\n",
       "    </tr>\n",
       "    <tr>\n",
       "      <th>2776</th>\n",
       "      <td>33</td>\n",
       "      <td>illiterate</td>\n",
       "      <td>12</td>\n",
       "      <td>5</td>\n",
       "      <td>418</td>\n",
       "      <td>11.386272</td>\n",
       "      <td>3.040189</td>\n",
       "      <td>44.554429</td>\n",
       "      <td>1</td>\n",
       "    </tr>\n",
       "    <tr>\n",
       "      <th>11915</th>\n",
       "      <td>20</td>\n",
       "      <td>basic</td>\n",
       "      <td>4</td>\n",
       "      <td>19</td>\n",
       "      <td>122</td>\n",
       "      <td>28.418494</td>\n",
       "      <td>14.560450</td>\n",
       "      <td>20.110112</td>\n",
       "      <td>0</td>\n",
       "    </tr>\n",
       "  </tbody>\n",
       "</table>\n",
       "</div>"
      ],
      "text/plain": [
       "                   age          education  years_with_current_employer  \\\n",
       "loan_applicant_id                                                        \n",
       "191                 44  university.degree                           10   \n",
       "34318               34        high.school                            3   \n",
       "14932               45  university.degree                           14   \n",
       "2776                33         illiterate                           12   \n",
       "11915               20              basic                            4   \n",
       "\n",
       "                   years_at_current_address  household_income  \\\n",
       "loan_applicant_id                                               \n",
       "191                                      20               192   \n",
       "34318                                    18                57   \n",
       "14932                                    24               212   \n",
       "2776                                      5               418   \n",
       "11915                                    19               122   \n",
       "\n",
       "                   debt_to_income_ratio  credit_card_debt  other_debt  y  \n",
       "loan_applicant_id                                                         \n",
       "191                           12.116645         14.377313    8.886645  1  \n",
       "34318                         14.264229          5.137880    2.992730  0  \n",
       "14932                          7.285681         10.460306    4.985339  0  \n",
       "2776                          11.386272          3.040189   44.554429  1  \n",
       "11915                         28.418494         14.560450   20.110112  0  "
      ]
     },
     "execution_count": 3,
     "metadata": {},
     "output_type": "execute_result"
    }
   ],
   "source": [
    "df = pd.read_csv('data_csv.csv', index_col='loan_applicant_id')\n",
    "df.head()"
   ]
  },
  {
   "cell_type": "code",
   "execution_count": 8,
   "metadata": {},
   "outputs": [
    {
     "name": "stdout",
     "output_type": "stream",
     "text": [
      "[192  57 212 ... 264  56 240]\n",
      "[1 0 0 ... 1 0 0]\n",
      "<class 'numpy.ndarray'>\n",
      "<class 'numpy.ndarray'>\n"
     ]
    }
   ],
   "source": [
    "x = df['household_income'].values\n",
    "y = df['y'].values\n",
    "print(x,y, sep=\"\\n\")\n",
    "print(type(x), type(y), sep=\"\\n\")"
   ]
  },
  {
   "cell_type": "code",
   "execution_count": 9,
   "metadata": {},
   "outputs": [],
   "source": [
    "import matplotlib.pyplot as plt"
   ]
  },
  {
   "cell_type": "code",
   "execution_count": 13,
   "metadata": {},
   "outputs": [
    {
     "data": {
      "text/plain": [
       "<matplotlib.collections.PathCollection at 0x1eb92b6e730>"
      ]
     },
     "execution_count": 13,
     "metadata": {},
     "output_type": "execute_result"
    },
    {
     "data": {
      "image/png": "[encoded data removed]",
      "text/plain": [
       "<Figure size 432x288 with 1 Axes>"
      ]
     },
     "metadata": {
      "needs_background": "light"
     },
     "output_type": "display_data"
    }
   ],
   "source": [
    "plt.scatter(x, y, color=\"black\", marker = \"X\", s=3)"
   ]
  },
  {
   "cell_type": "code",
   "execution_count": 14,
   "metadata": {},
   "outputs": [],
   "source": [
    "from sklearn.linear_model import LinearRegression\n",
    "from sklearn.model_selection import train_test_split"
   ]
  },
  {
   "cell_type": "code",
   "execution_count": 26,
   "metadata": {},
   "outputs": [],
   "source": [
    "logreg = LinearRegression()\n",
    "x_train, x_test, y_train, y_test = train_test_split(x, y, test_size=0.2, random_state=0)\n",
    "x_train = x_train.reshape(-1,1)\n",
    "x_test = x_test.reshape(-1,1)\n",
    "logreg.fit(x_train, y_train)\n",
    "predictions = logreg.predict(x_test)\n",
    "# No need for classifying into two groups,use the loss function to compare and gauage improvements\n",
    "\n",
    "\n",
    "# predictions = predictions.round()\n",
    "# from sklearn.metrics import confusion_matrix\n",
    "# cm = confusion_matrix(y_test, predictions)\n",
    "# print(cm)"
   ]
  },
  {
   "cell_type": "code",
   "execution_count": 21,
   "metadata": {},
   "outputs": [],
   "source": [
    "import seaborn as sns"
   ]
  },
  {
   "cell_type": "code",
   "execution_count": 25,
   "metadata": {},
   "outputs": [
    {
     "data": {
      "text/plain": [
       "<AxesSubplot:>"
      ]
     },
     "execution_count": 25,
     "metadata": {},
     "output_type": "execute_result"
    },
    {
     "data": {
      "image/png": "[encoded data removed]",
      "text/plain": [
       "<Figure size 432x288 with 1 Axes>"
      ]
     },
     "metadata": {
      "needs_background": "light"
     },
     "output_type": "display_data"
    }
   ],
   "source": [
    "sns.regplot(x=x, y=y, data=df, logistic=True)\n",
    "\n",
    "# Try do manually"
   ]
  },
  {
   "cell_type": "code",
   "execution_count": null,
   "metadata": {},
   "outputs": [],
   "source": [
    "y = "
   ]
  }
 ],
 "metadata": {
  "kernelspec": {
   "display_name": "Python 3",
   "language": "python",
   "name": "python3"
  },
  "language_info": {
   "codemirror_mode": {
    "name": "ipython",
    "version": 3
   },
   "file_extension": ".py",
   "mimetype": "text/x-python",
   "name": "python",
   "nbconvert_exporter": "python",
   "pygments_lexer": "ipython3",
   "version": "3.9.4"
  },
  "orig_nbformat": 4
 },
 "nbformat": 4,
 "nbformat_minor": 2
}
