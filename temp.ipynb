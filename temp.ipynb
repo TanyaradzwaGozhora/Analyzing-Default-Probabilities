{
 "cells": [
  {
   "cell_type": "code",
   "execution_count": 4,
   "metadata": {},
   "outputs": [],
   "source": [
    "import pandas as pd\n",
    "import numpy as np\n",
    "from scipy.optimize import curve_fit\n",
    "\n"
   ]
  },
  {
   "cell_type": "code",
   "execution_count": 5,
   "metadata": {},
   "outputs": [],
   "source": [
    "df2 = pd.read_csv('data_csv.csv', index_col='loan_applicant_id')\n",
    "df2.head()\n",
    "df2 = df2.dropna()\n",
    "\n",
    "# df2 = pd.read_csv('application_train.csv/application_train.csv')#, index_col='SK_ID_CURR')\n",
    "# df2.head()\n",
    "# very strong definition of failure so maybe not the best data set\n",
    "# \tTarget variable (1 - client with payment difficulties: he/she had late payment more than X days on at least one of the first Y installments of the loan in our sample, 0 - all other cases)\n",
    "# df2 = df2.dropna()"
   ]
  },
  {
   "cell_type": "code",
   "execution_count": 6,
   "metadata": {},
   "outputs": [
    {
     "name": "stdout",
     "output_type": "stream",
     "text": [
      "[192  57 212 ... 264  56 240]\n",
      "[1 0 0 ... 1 0 0]\n",
      "<class 'numpy.ndarray'>\n",
      "<class 'numpy.ndarray'>\n"
     ]
    }
   ],
   "source": [
    "x = df2['household_income'].values\n",
    "y = df2['y'].values\n",
    "print(x,y, sep=\"\\n\")\n",
    "print(type(x), type(y), sep=\"\\n\")\n",
    "\n",
    "# x = df2['AMT_INCOME_TOTAL'].values\n",
    "# y1 = df2['TARGET'].values\n",
    "# y = np.array([1 if i==0 else 0 for i in y1])\n",
    "# print(x,y,len(x),len(y), sep=\"\\n\")\n",
    "# print(type(x), type(y), sep=\"\\n\")"
   ]
  },
  {
   "cell_type": "code",
   "execution_count": 7,
   "metadata": {},
   "outputs": [],
   "source": [
    "import matplotlib.pyplot as plt"
   ]
  },
  {
   "cell_type": "code",
   "execution_count": 8,
   "metadata": {},
   "outputs": [
    {
     "data": {
      "text/plain": [
       "<matplotlib.collections.PathCollection at 0x261c98b77f0>"
      ]
     },
     "execution_count": 8,
     "metadata": {},
     "output_type": "execute_result"
    },
    {
     "data": {
      "image/png": "[encoded data removed]",
      "text/plain": [
       "<Figure size 432x288 with 1 Axes>"
      ]
     },
     "metadata": {
      "needs_background": "light"
     },
     "output_type": "display_data"
    }
   ],
   "source": [
    "plt.scatter(x, y, color=\"black\", marker = \"X\", s=3)"
   ]
  },
  {
   "cell_type": "code",
   "execution_count": 9,
   "metadata": {},
   "outputs": [],
   "source": [
    "from sklearn.linear_model import LogisticRegression\n",
    "from sklearn.model_selection import train_test_split"
   ]
  },
  {
   "cell_type": "code",
   "execution_count": 10,
   "metadata": {},
   "outputs": [
    {
     "data": {
      "image/png": "[encoded data removed]",
      "text/plain": [
       "<Figure size 432x288 with 1 Axes>"
      ]
     },
     "metadata": {
      "needs_background": "light"
     },
     "output_type": "display_data"
    }
   ],
   "source": [
    "logreg = LogisticRegression()\n",
    "x_train, x_test, y_train, y_test = train_test_split(x, y, test_size=0.25, random_state=0)\n",
    "x_train = x_train.reshape(-1,1)\n",
    "x_test = x_test.reshape(-1,1)\n",
    "logreg.fit(x_train, y_train)\n",
    "predictions = logreg.predict(x_test)\n",
    "\n",
    "\n",
    "# # Visualising the Training set results\n",
    "plt.scatter(x_test, y_test)\n",
    "\n",
    "# create a line plot of the logistic regression model\n",
    "X = np.linspace(x_test.min(), x_test.max(), 100)\n",
    "Y = logreg.predict_proba(X.reshape(-1,1))[:,1]\n",
    "plt.plot(X, Y, color='red')\n",
    "\n",
    "# show the scatter plot and line plot on the same graph\n",
    "plt.xlabel('x')\n",
    "plt.ylabel('y')\n",
    "plt.title('Logistic Regression')\n",
    "plt.show()"
   ]
  },
  {
   "cell_type": "code",
   "execution_count": 11,
   "metadata": {},
   "outputs": [],
   "source": [
    "\n",
    "\n",
    "import seaborn as sns"
   ]
  },
  {
   "cell_type": "code",
   "execution_count": 12,
   "metadata": {},
   "outputs": [
    {
     "data": {
      "text/plain": [
       "<AxesSubplot:>"
      ]
     },
     "execution_count": 12,
     "metadata": {},
     "output_type": "execute_result"
    },
    {
     "data": {
      "image/png": "[encoded data removed]",
      "text/plain": [
       "<Figure size 432x288 with 1 Axes>"
      ]
     },
     "metadata": {
      "needs_background": "light"
     },
     "output_type": "display_data"
    }
   ],
   "source": [
    "sns.regplot(x=x, y=y, data=df2, logistic=True)\n",
    "\n",
    "# Try do manually"
   ]
  },
  {
   "cell_type": "code",
   "execution_count": 13,
   "metadata": {},
   "outputs": [],
   "source": [
    "from scipy.stats import norm\n",
    "import math\n",
    "def f(x,b,mu,sigma):\n",
    "    # def f(x,a,b): \n",
    "    # Not factoring in T since we don't know the time period\n",
    "    # th1 = np.log(b,where=b>0)\n",
    "    th2 = np.log(x,where=x>0)\n",
    "    # th1[b<=0] = 0\n",
    "    # th2[x<=0] = 0\n",
    "    # t1 = th1 - th2\n",
    "    # print(b,x)\n",
    "    # t1 = b/x if b>0 and x>0 else [0 for i in range(len(x))]\n",
    "    t1 = [math.log1p(b/i) if i>0 else 0 for i in b/x]\n",
    "    # print(t1)\n",
    "    # t1 = np.log(b, where=b>0) - np.log(x, where=x>0)\n",
    "    # # print(t1, b, x)\n",
    "    # # print(t1.shape, b.shape, x.shape)\n",
    "    # # t1 = math.log(b) - math.log(x)\n",
    "    t2 = (mu -(sigma**2)/2)\n",
    "    t3 = (t1 - t2)/sigma\n",
    "    # print(t3)\n",
    "    result = scal* norm.cdf(t3)\n",
    "    # print(result)\n",
    "    # result = [i[0] for i in result]\n",
    "    # result = np.array(result)\n",
    "    #print(type(result), result) #, result)\n",
    "\n",
    "\n",
    "    # result = a*x +b\n",
    "    # result = [i[0] for i in result]\n",
    "    return result"
   ]
  },
  {
   "cell_type": "code",
   "execution_count": 14,
   "metadata": {},
   "outputs": [
    {
     "name": "stderr",
     "output_type": "stream",
     "text": [
      "c:\\Users\\tanya\\AppData\\Local\\Programs\\Python\\Python39\\lib\\site-packages\\scipy\\optimize\\minpack.py:828: OptimizeWarning: Covariance of the parameters could not be estimated\n",
      "  warnings.warn('Covariance of the parameters could not be estimated',\n"
     ]
    }
   ],
   "source": [
    "from scipy.optimize import curve_fit\n",
    "popt, pcov = curve_fit(f, x_train.astype(float), y_train.astype(float),maxfev=1000000)"
   ]
  },
  {
   "cell_type": "code",
   "execution_count": 15,
   "metadata": {},
   "outputs": [
    {
     "data": {
      "text/plain": [
       "array([1.75449238e+02, 5.49451392e+00, 7.64730042e-04])"
      ]
     },
     "execution_count": 15,
     "metadata": {},
     "output_type": "execute_result"
    }
   ],
   "source": [
    "popt"
   ]
  },
  {
   "cell_type": "code",
   "execution_count": 16,
   "metadata": {},
   "outputs": [
    {
     "data": {
      "text/plain": [
       "array([[inf, inf, inf],\n",
       "       [inf, inf, inf],\n",
       "       [inf, inf, inf]])"
      ]
     },
     "execution_count": 16,
     "metadata": {},
     "output_type": "execute_result"
    }
   ],
   "source": [
    "pcov"
   ]
  },
  {
   "cell_type": "code",
   "execution_count": 17,
   "metadata": {},
   "outputs": [
    {
     "name": "stdout",
     "output_type": "stream",
     "text": [
      "[14] [446]\n"
     ]
    }
   ],
   "source": [
    "print(min(x_test), max(x_test))"
   ]
  },
  {
   "cell_type": "code",
   "execution_count": 18,
   "metadata": {},
   "outputs": [
    {
     "data": {
      "image/png": "[encoded data removed]",
      "text/plain": [
       "<Figure size 432x288 with 1 Axes>"
      ]
     },
     "metadata": {
      "needs_background": "light"
     },
     "output_type": "display_data"
    }
   ],
   "source": [
    "# generate some sample data\n",
    "# X = \n",
    "# ydata = func(X, 2.5, 1.3, 0.5) + 0.2 * np.random.normal(size=len(xdata))\n",
    "\n",
    "# perform the curve fit\n",
    "# popt, pcov = curve_fit(func, xdata, ydata)\n",
    "\n",
    "# plot the original data\n",
    "plt.scatter(x_test, y_test, label='Data')\n",
    "# Ommitted\n",
    "\n",
    "# plot the fitted curve\n",
    "xfit = np.linspace(x_test.min(), x_test.max(), 100000)\n",
    "yfit = f(xfit, *popt)\n",
    "plt.plot(xfit, yfit, label='Fit')\n",
    "\n",
    "# add labels and legend\n",
    "plt.xlabel('x')\n",
    "plt.ylabel('y')\n",
    "plt.legend()\n",
    "\n",
    "# show the plot\n",
    "plt.show()"
   ]
  },
  {
   "cell_type": "code",
   "execution_count": 19,
   "metadata": {},
   "outputs": [
    {
     "name": "stdout",
     "output_type": "stream",
     "text": [
      "0.061374969329892004\n",
      "0.08080023307759542\n"
     ]
    }
   ],
   "source": [
    "# Comparision of mean squared error for both models\n",
    "# Our model\n",
    "from sklearn.metrics import mean_squared_error\n",
    "predictions = f(x_test, *popt)\n",
    "print(mean_squared_error(y_test, predictions))\n",
    "\n",
    "# Log model\n",
    "predictions = logreg.predict(x_test)\n",
    "print(mean_squared_error(y_test, predictions))\n",
    "\n"
   ]
  },
  {
   "attachments": {},
   "cell_type": "markdown",
   "metadata": {},
   "source": [
    "Same thing with a new dataset :)"
   ]
  },
  {
   "cell_type": "code",
   "execution_count": 20,
   "metadata": {},
   "outputs": [],
   "source": [
    "df2 = pd.read_csv('application_train.csv/application_train.csv', index_col='SK_ID_CURR')\n",
    "df2.head()\n",
    "df2 = df2.dropna()"
   ]
  }
 ],
 "metadata": {
  "kernelspec": {
   "display_name": "Python 3",
   "language": "python",
   "name": "python3"
  },
  "language_info": {
   "codemirror_mode": {
    "name": "ipython",
    "version": 3
   },
   "file_extension": ".py",
   "mimetype": "text/x-python",
   "name": "python",
   "nbconvert_exporter": "python",
   "pygments_lexer": "ipython3",
   "version": "3.9.4"
  },
  "orig_nbformat": 4
 },
 "nbformat": 4,
 "nbformat_minor": 2
}
